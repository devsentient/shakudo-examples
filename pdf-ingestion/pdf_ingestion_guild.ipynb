{
 "cells": [
  {
   "cell_type": "markdown",
   "metadata": {},
   "source": [
    "## PDF to GraphRAG"
   ]
  },
  {
   "cell_type": "markdown",
   "metadata": {},
   "source": [
    "### Step 0. Install requirements."
   ]
  },
  {
   "cell_type": "code",
   "execution_count": 4,
   "metadata": {},
   "outputs": [
    {
     "name": "stdout",
     "output_type": "stream",
     "text": [
      "Collecting fastapi==0.115.6\n",
      "  Using cached fastapi-0.115.6-py3-none-any.whl (94 kB)\n",
      "Collecting langchain==0.3.19\n",
      "  Using cached langchain-0.3.19-py3-none-any.whl (1.0 MB)\n",
      "Collecting langchain-core==0.3.40\n",
      "  Using cached langchain_core-0.3.40-py3-none-any.whl (414 kB)\n",
      "Collecting langchain-experimental==0.3.4\n",
      "  Using cached langchain_experimental-0.3.4-py3-none-any.whl (209 kB)\n",
      "Collecting langchain-openai==0.3.1\n",
      "  Using cached langchain_openai-0.3.1-py3-none-any.whl (54 kB)\n",
      "Collecting langchain-text-splitters==0.3.6\n",
      "  Using cached langchain_text_splitters-0.3.6-py3-none-any.whl (31 kB)\n",
      "Collecting neo4j==5.27.0\n",
      "  Using cached neo4j-5.27.0-py3-none-any.whl (301 kB)\n",
      "Collecting uvicorn==0.34.0\n",
      "  Using cached uvicorn-0.34.0-py3-none-any.whl (62 kB)\n",
      "Collecting sse-starlette==1.8.2\n",
      "  Using cached sse_starlette-1.8.2-py3-none-any.whl (8.9 kB)\n",
      "Collecting langsmith==0.2.11\n",
      "  Using cached langsmith-0.2.11-py3-none-any.whl (326 kB)\n",
      "Collecting text_generation==0.6.1\n",
      "  Using cached text_generation-0.6.1-py3-none-any.whl (10 kB)\n",
      "Collecting sqlalchemy==2.0.37\n",
      "  Using cached SQLAlchemy-2.0.37-cp310-cp310-manylinux_2_17_x86_64.manylinux2014_x86_64.whl (3.1 MB)\n",
      "Collecting python-dotenv==1.0.1\n",
      "  Using cached python_dotenv-1.0.1-py3-none-any.whl (19 kB)\n",
      "Collecting minio==7.2.15\n",
      "  Using cached minio-7.2.15-py3-none-any.whl (95 kB)\n",
      "Collecting colorlog==6.9.0\n",
      "  Using cached colorlog-6.9.0-py3-none-any.whl (11 kB)\n",
      "Collecting starlette<0.42.0,>=0.40.0\n",
      "  Using cached starlette-0.41.3-py3-none-any.whl (73 kB)\n",
      "Requirement already satisfied: pydantic!=1.8,!=1.8.1,!=2.0.0,!=2.0.1,!=2.1.0,<3.0.0,>=1.7.4 in /opt/conda/lib/python3.10/site-packages (from fastapi==0.115.6->-r ./requirements.txt (line 1)) (2.9.0)\n",
      "Requirement already satisfied: typing-extensions>=4.8.0 in /opt/conda/lib/python3.10/site-packages (from fastapi==0.115.6->-r ./requirements.txt (line 1)) (4.12.2)\n",
      "Requirement already satisfied: aiohttp<4.0.0,>=3.8.3 in /opt/conda/lib/python3.10/site-packages (from langchain==0.3.19->-r ./requirements.txt (line 2)) (3.10.5)\n",
      "Requirement already satisfied: tenacity!=8.4.0,<10,>=8.1.0 in /opt/conda/lib/python3.10/site-packages (from langchain==0.3.19->-r ./requirements.txt (line 2)) (9.0.0)\n",
      "Requirement already satisfied: requests<3,>=2 in /opt/conda/lib/python3.10/site-packages (from langchain==0.3.19->-r ./requirements.txt (line 2)) (2.32.3)\n",
      "Requirement already satisfied: PyYAML>=5.3 in /opt/conda/lib/python3.10/site-packages (from langchain==0.3.19->-r ./requirements.txt (line 2)) (6.0.2)\n",
      "Requirement already satisfied: async-timeout<5.0.0,>=4.0.0 in /opt/conda/lib/python3.10/site-packages (from langchain==0.3.19->-r ./requirements.txt (line 2)) (4.0.3)\n",
      "Collecting numpy<2,>=1.26.4\n",
      "  Using cached numpy-1.26.4-cp310-cp310-manylinux_2_17_x86_64.manylinux2014_x86_64.whl (18.2 MB)\n",
      "Requirement already satisfied: packaging<25,>=23.2 in /opt/conda/lib/python3.10/site-packages (from langchain-core==0.3.40->-r ./requirements.txt (line 3)) (24.1)\n",
      "Collecting jsonpatch<2.0,>=1.33\n",
      "  Using cached jsonpatch-1.33-py2.py3-none-any.whl (12 kB)\n",
      "Collecting langchain-community<0.4.0,>=0.3.0\n",
      "  Using cached langchain_community-0.3.18-py3-none-any.whl (2.5 MB)\n",
      "Requirement already satisfied: tiktoken<1,>=0.7 in /opt/conda/lib/python3.10/site-packages (from langchain-openai==0.3.1->-r ./requirements.txt (line 5)) (0.7.0)\n",
      "Collecting openai<2.0.0,>=1.58.1\n",
      "  Downloading openai-1.65.2-py3-none-any.whl (473 kB)\n",
      "\u001b[2K     \u001b[90m━━━━━━━━━━━━━━━━━━━━━━━━━━━━━━━━━━━━━━\u001b[0m \u001b[32m473.2/473.2 kB\u001b[0m \u001b[31m39.1 MB/s\u001b[0m eta \u001b[36m0:00:00\u001b[0m\n",
      "\u001b[?25hRequirement already satisfied: pytz in /opt/conda/lib/python3.10/site-packages (from neo4j==5.27.0->-r ./requirements.txt (line 7)) (2023.4)\n",
      "Requirement already satisfied: h11>=0.8 in /opt/conda/lib/python3.10/site-packages (from uvicorn==0.34.0->-r ./requirements.txt (line 8)) (0.14.0)\n",
      "Requirement already satisfied: click>=7.0 in /opt/conda/lib/python3.10/site-packages (from uvicorn==0.34.0->-r ./requirements.txt (line 8)) (8.1.7)\n",
      "Requirement already satisfied: anyio in /opt/conda/lib/python3.10/site-packages (from sse-starlette==1.8.2->-r ./requirements.txt (line 10)) (3.7.1)\n",
      "Collecting requests-toolbelt<2.0.0,>=1.0.0\n",
      "  Using cached requests_toolbelt-1.0.0-py2.py3-none-any.whl (54 kB)\n",
      "Collecting orjson<4.0.0,>=3.9.14\n",
      "  Using cached orjson-3.10.15-cp310-cp310-manylinux_2_17_x86_64.manylinux2014_x86_64.whl (130 kB)\n",
      "Requirement already satisfied: httpx<1,>=0.23.0 in /opt/conda/lib/python3.10/site-packages (from langsmith==0.2.11->-r ./requirements.txt (line 11)) (0.24.1)\n",
      "Requirement already satisfied: huggingface-hub<1.0,>=0.12 in /opt/conda/lib/python3.10/site-packages (from text_generation==0.6.1->-r ./requirements.txt (line 13)) (0.24.6)\n",
      "Requirement already satisfied: greenlet!=0.4.17 in /opt/conda/lib/python3.10/site-packages (from sqlalchemy==2.0.37->-r ./requirements.txt (line 14)) (3.0.3)\n",
      "Requirement already satisfied: argon2-cffi in /opt/conda/lib/python3.10/site-packages (from minio==7.2.15->-r ./requirements.txt (line 16)) (23.1.0)\n",
      "Requirement already satisfied: urllib3 in /opt/conda/lib/python3.10/site-packages (from minio==7.2.15->-r ./requirements.txt (line 16)) (1.26.18)\n",
      "Collecting pycryptodome\n",
      "  Using cached pycryptodome-3.21.0-cp36-abi3-manylinux_2_17_x86_64.manylinux2014_x86_64.whl (2.3 MB)\n",
      "Requirement already satisfied: certifi in /opt/conda/lib/python3.10/site-packages (from minio==7.2.15->-r ./requirements.txt (line 16)) (2024.8.30)\n",
      "Requirement already satisfied: frozenlist>=1.1.1 in /opt/conda/lib/python3.10/site-packages (from aiohttp<4.0.0,>=3.8.3->langchain==0.3.19->-r ./requirements.txt (line 2)) (1.4.1)\n",
      "Requirement already satisfied: aiosignal>=1.1.2 in /opt/conda/lib/python3.10/site-packages (from aiohttp<4.0.0,>=3.8.3->langchain==0.3.19->-r ./requirements.txt (line 2)) (1.3.1)\n",
      "Requirement already satisfied: aiohappyeyeballs>=2.3.0 in /opt/conda/lib/python3.10/site-packages (from aiohttp<4.0.0,>=3.8.3->langchain==0.3.19->-r ./requirements.txt (line 2)) (2.4.0)\n",
      "Requirement already satisfied: multidict<7.0,>=4.5 in /opt/conda/lib/python3.10/site-packages (from aiohttp<4.0.0,>=3.8.3->langchain==0.3.19->-r ./requirements.txt (line 2)) (6.0.5)\n",
      "Requirement already satisfied: yarl<2.0,>=1.0 in /opt/conda/lib/python3.10/site-packages (from aiohttp<4.0.0,>=3.8.3->langchain==0.3.19->-r ./requirements.txt (line 2)) (1.10.0)\n",
      "Requirement already satisfied: attrs>=17.3.0 in /opt/conda/lib/python3.10/site-packages (from aiohttp<4.0.0,>=3.8.3->langchain==0.3.19->-r ./requirements.txt (line 2)) (24.2.0)\n",
      "Requirement already satisfied: idna in /opt/conda/lib/python3.10/site-packages (from httpx<1,>=0.23.0->langsmith==0.2.11->-r ./requirements.txt (line 11)) (3.8)\n",
      "Requirement already satisfied: sniffio in /opt/conda/lib/python3.10/site-packages (from httpx<1,>=0.23.0->langsmith==0.2.11->-r ./requirements.txt (line 11)) (1.3.1)\n",
      "Requirement already satisfied: httpcore<0.18.0,>=0.15.0 in /opt/conda/lib/python3.10/site-packages (from httpx<1,>=0.23.0->langsmith==0.2.11->-r ./requirements.txt (line 11)) (0.17.3)\n",
      "Requirement already satisfied: filelock in /opt/conda/lib/python3.10/site-packages (from huggingface-hub<1.0,>=0.12->text_generation==0.6.1->-r ./requirements.txt (line 13)) (3.16.0)\n",
      "Requirement already satisfied: tqdm>=4.42.1 in /opt/conda/lib/python3.10/site-packages (from huggingface-hub<1.0,>=0.12->text_generation==0.6.1->-r ./requirements.txt (line 13)) (4.65.0)\n",
      "Requirement already satisfied: fsspec>=2023.5.0 in /opt/conda/lib/python3.10/site-packages (from huggingface-hub<1.0,>=0.12->text_generation==0.6.1->-r ./requirements.txt (line 13)) (2023.12.2)\n",
      "Requirement already satisfied: jsonpointer>=1.9 in /opt/conda/lib/python3.10/site-packages (from jsonpatch<2.0,>=1.33->langchain-core==0.3.40->-r ./requirements.txt (line 3)) (3.0.0)\n",
      "Collecting dataclasses-json<0.7,>=0.5.7\n",
      "  Using cached dataclasses_json-0.6.7-py3-none-any.whl (28 kB)\n",
      "Collecting pydantic-settings<3.0.0,>=2.4.0\n",
      "  Downloading pydantic_settings-2.8.1-py3-none-any.whl (30 kB)\n",
      "Collecting httpx-sse<1.0.0,>=0.4.0\n",
      "  Using cached httpx_sse-0.4.0-py3-none-any.whl (7.8 kB)\n",
      "Requirement already satisfied: distro<2,>=1.7.0 in /opt/conda/lib/python3.10/site-packages (from openai<2.0.0,>=1.58.1->langchain-openai==0.3.1->-r ./requirements.txt (line 5)) (1.9.0)\n",
      "Requirement already satisfied: jiter<1,>=0.4.0 in /opt/conda/lib/python3.10/site-packages (from openai<2.0.0,>=1.58.1->langchain-openai==0.3.1->-r ./requirements.txt (line 5)) (0.5.0)\n",
      "Requirement already satisfied: exceptiongroup in /opt/conda/lib/python3.10/site-packages (from anyio->sse-starlette==1.8.2->-r ./requirements.txt (line 10)) (1.2.2)\n",
      "Requirement already satisfied: pydantic-core==2.23.2 in /opt/conda/lib/python3.10/site-packages (from pydantic!=1.8,!=1.8.1,!=2.0.0,!=2.0.1,!=2.1.0,<3.0.0,>=1.7.4->fastapi==0.115.6->-r ./requirements.txt (line 1)) (2.23.2)\n",
      "Requirement already satisfied: annotated-types>=0.4.0 in /opt/conda/lib/python3.10/site-packages (from pydantic!=1.8,!=1.8.1,!=2.0.0,!=2.0.1,!=2.1.0,<3.0.0,>=1.7.4->fastapi==0.115.6->-r ./requirements.txt (line 1)) (0.7.0)\n",
      "Requirement already satisfied: tzdata in /opt/conda/lib/python3.10/site-packages (from pydantic!=1.8,!=1.8.1,!=2.0.0,!=2.0.1,!=2.1.0,<3.0.0,>=1.7.4->fastapi==0.115.6->-r ./requirements.txt (line 1)) (2024.1)\n",
      "Requirement already satisfied: charset-normalizer<4,>=2 in /opt/conda/lib/python3.10/site-packages (from requests<3,>=2->langchain==0.3.19->-r ./requirements.txt (line 2)) (2.0.4)\n",
      "Requirement already satisfied: regex>=2022.1.18 in /opt/conda/lib/python3.10/site-packages (from tiktoken<1,>=0.7->langchain-openai==0.3.1->-r ./requirements.txt (line 5)) (2024.7.24)\n",
      "Requirement already satisfied: argon2-cffi-bindings in /opt/conda/lib/python3.10/site-packages (from argon2-cffi->minio==7.2.15->-r ./requirements.txt (line 16)) (21.2.0)\n",
      "Requirement already satisfied: marshmallow<4.0.0,>=3.18.0 in /opt/conda/lib/python3.10/site-packages (from dataclasses-json<0.7,>=0.5.7->langchain-community<0.4.0,>=0.3.0->langchain-experimental==0.3.4->-r ./requirements.txt (line 4)) (3.22.0)\n",
      "Collecting typing-inspect<1,>=0.4.0\n",
      "  Using cached typing_inspect-0.9.0-py3-none-any.whl (8.8 kB)\n",
      "Requirement already satisfied: cffi>=1.0.1 in /opt/conda/lib/python3.10/site-packages (from argon2-cffi-bindings->argon2-cffi->minio==7.2.15->-r ./requirements.txt (line 16)) (1.17.1)\n",
      "Requirement already satisfied: pycparser in /opt/conda/lib/python3.10/site-packages (from cffi>=1.0.1->argon2-cffi-bindings->argon2-cffi->minio==7.2.15->-r ./requirements.txt (line 16)) (2.22)\n",
      "Requirement already satisfied: mypy-extensions>=0.3.0 in /opt/conda/lib/python3.10/site-packages (from typing-inspect<1,>=0.4.0->dataclasses-json<0.7,>=0.5.7->langchain-community<0.4.0,>=0.3.0->langchain-experimental==0.3.4->-r ./requirements.txt (line 4)) (1.0.0)\n",
      "Installing collected packages: uvicorn, typing-inspect, sqlalchemy, python-dotenv, pycryptodome, orjson, numpy, neo4j, jsonpatch, httpx-sse, colorlog, starlette, requests-toolbelt, dataclasses-json, text_generation, pydantic-settings, fastapi, sse-starlette, openai, minio, langsmith, langchain-core, langchain-text-splitters, langchain-openai, langchain, langchain-community, langchain-experimental\n",
      "  Attempting uninstall: sqlalchemy\n",
      "    Found existing installation: SQLAlchemy 1.4.54\n",
      "    Uninstalling SQLAlchemy-1.4.54:\n",
      "      Successfully uninstalled SQLAlchemy-1.4.54\n",
      "  Attempting uninstall: python-dotenv\n",
      "    Found existing installation: python-dotenv 1.0.0\n",
      "    Uninstalling python-dotenv-1.0.0:\n",
      "      Successfully uninstalled python-dotenv-1.0.0\n",
      "  Attempting uninstall: numpy\n",
      "    Found existing installation: numpy 1.26.3\n",
      "    Uninstalling numpy-1.26.3:\n",
      "      Successfully uninstalled numpy-1.26.3\n",
      "  Attempting uninstall: jsonpatch\n",
      "    Found existing installation: jsonpatch 1.32\n",
      "    Uninstalling jsonpatch-1.32:\n",
      "      Successfully uninstalled jsonpatch-1.32\n",
      "  Attempting uninstall: openai\n",
      "    Found existing installation: openai 1.44.0\n",
      "    Uninstalling openai-1.44.0:\n",
      "      Successfully uninstalled openai-1.44.0\n",
      "\u001b[31mERROR: pip's dependency resolver does not currently take into account all the packages that are installed. This behaviour is the source of the following dependency conflicts.\n",
      "sqlalchemy-bigquery 1.9.0 requires sqlalchemy<2.0.0dev,>=1.2.0, but you have sqlalchemy 2.0.37 which is incompatible.\n",
      "mlflow 2.9.2 requires packaging<24, but you have packaging 24.1 which is incompatible.\u001b[0m\u001b[31m\n",
      "\u001b[0mSuccessfully installed colorlog-6.9.0 dataclasses-json-0.6.7 fastapi-0.115.6 httpx-sse-0.4.0 jsonpatch-1.33 langchain-0.3.19 langchain-community-0.3.18 langchain-core-0.3.40 langchain-experimental-0.3.4 langchain-openai-0.3.1 langchain-text-splitters-0.3.6 langsmith-0.2.11 minio-7.2.15 neo4j-5.27.0 numpy-1.26.4 openai-1.65.2 orjson-3.10.15 pycryptodome-3.21.0 pydantic-settings-2.8.1 python-dotenv-1.0.1 requests-toolbelt-1.0.0 sqlalchemy-2.0.37 sse-starlette-1.8.2 starlette-0.41.3 text_generation-0.6.1 typing-inspect-0.9.0 uvicorn-0.34.0\n",
      "\u001b[33mWARNING: Running pip as the 'root' user can result in broken permissions and conflicting behaviour with the system package manager. It is recommended to use a virtual environment instead: https://pip.pypa.io/warnings/venv\u001b[0m\u001b[33m\n",
      "\u001b[0m"
     ]
    }
   ],
   "source": [
    "!pip install -r ./requirements.txt"
   ]
  },
  {
   "cell_type": "markdown",
   "metadata": {},
   "source": [
    "### Step 1. Download PDF from Minio into local path."
   ]
  },
  {
   "cell_type": "markdown",
   "metadata": {},
   "source": [
    "To download files from Minio, the credentials must present in the environment."
   ]
  },
  {
   "cell_type": "code",
   "execution_count": 6,
   "metadata": {},
   "outputs": [
    {
     "ename": "AssertionError",
     "evalue": "",
     "output_type": "error",
     "traceback": [
      "\u001b[0;31m---------------------------------------------------------------------------\u001b[0m",
      "\u001b[0;31mAssertionError\u001b[0m                            Traceback (most recent call last)",
      "Cell \u001b[0;32mIn[6], line 2\u001b[0m\n\u001b[1;32m      1\u001b[0m \u001b[38;5;28;01mimport\u001b[39;00m \u001b[38;5;21;01mos\u001b[39;00m\n\u001b[0;32m----> 2\u001b[0m \u001b[38;5;28;01massert\u001b[39;00m os\u001b[38;5;241m.\u001b[39menviron\u001b[38;5;241m.\u001b[39mget(\u001b[38;5;124m'\u001b[39m\u001b[38;5;124mMINIO_ACCESS_KEY\u001b[39m\u001b[38;5;124m'\u001b[39m) \n\u001b[1;32m      3\u001b[0m \u001b[38;5;28;01massert\u001b[39;00m os\u001b[38;5;241m.\u001b[39menviron\u001b[38;5;241m.\u001b[39mget(\u001b[38;5;124m'\u001b[39m\u001b[38;5;124mMINIO_SECRET_KEY\u001b[39m\u001b[38;5;124m'\u001b[39m)\n",
      "\u001b[0;31mAssertionError\u001b[0m: "
     ]
    }
   ],
   "source": [
    "import os\n",
    "assert os.environ.get('MINIO_ACCESS_KEY') \n",
    "assert os.environ.get('MINIO_SECRET_KEY')"
   ]
  },
  {
   "cell_type": "code",
   "execution_count": 1,
   "metadata": {},
   "outputs": [
    {
     "ename": "Exception",
     "evalue": "MINIO_ACCESS_KEY or MINIO_SECRET_KEY is empty.",
     "output_type": "error",
     "traceback": [
      "\u001b[0;31m---------------------------------------------------------------------------\u001b[0m",
      "\u001b[0;31mException\u001b[0m                                 Traceback (most recent call last)",
      "Cell \u001b[0;32mIn[1], line 1\u001b[0m\n\u001b[0;32m----> 1\u001b[0m \u001b[38;5;28;01mfrom\u001b[39;00m \u001b[38;5;21;01mdownload_pdf_files\u001b[39;00m\u001b[38;5;21;01m.\u001b[39;00m\u001b[38;5;21;01mpy\u001b[39;00m \u001b[38;5;28;01mimport\u001b[39;00m download_all_files\n\u001b[1;32m      2\u001b[0m bucket_name \u001b[38;5;241m=\u001b[39m os\u001b[38;5;241m.\u001b[39mgetenv(\u001b[38;5;124m'\u001b[39m\u001b[38;5;124mBUCKET_NAME\u001b[39m\u001b[38;5;124m'\u001b[39m, \u001b[38;5;124m'\u001b[39m\u001b[38;5;124mshakudo-poc\u001b[39m\u001b[38;5;124m'\u001b[39m)\n\u001b[1;32m      3\u001b[0m object_prefix \u001b[38;5;241m=\u001b[39m os\u001b[38;5;241m.\u001b[39mgetenv(\u001b[38;5;124m'\u001b[39m\u001b[38;5;124mOBJECT_KEY\u001b[39m\u001b[38;5;124m'\u001b[39m, \u001b[38;5;124m'\u001b[39m\u001b[38;5;124mrag-chat-financial10k/\u001b[39m\u001b[38;5;124m'\u001b[39m)\n",
      "File \u001b[0;32m~/shakudo-examples/pdf-ingestion/download_pdf_files.py:11\u001b[0m\n\u001b[1;32m      8\u001b[0m secret_key \u001b[38;5;241m=\u001b[39m os\u001b[38;5;241m.\u001b[39mgetenv(\u001b[38;5;124m\"\u001b[39m\u001b[38;5;124mMINIO_SECRET_KEY\u001b[39m\u001b[38;5;124m\"\u001b[39m)\n\u001b[1;32m     10\u001b[0m \u001b[38;5;28;01mif\u001b[39;00m \u001b[38;5;129;01mnot\u001b[39;00m access_key \u001b[38;5;129;01mor\u001b[39;00m \u001b[38;5;129;01mnot\u001b[39;00m secret_key:\n\u001b[0;32m---> 11\u001b[0m     \u001b[38;5;28;01mraise\u001b[39;00m \u001b[38;5;167;01mException\u001b[39;00m(\u001b[38;5;124m\"\u001b[39m\u001b[38;5;124mMINIO_ACCESS_KEY or MINIO_SECRET_KEY is empty.\u001b[39m\u001b[38;5;124m\"\u001b[39m)\n\u001b[1;32m     13\u001b[0m \u001b[38;5;66;03m# Create a Minio client instance\u001b[39;00m\n\u001b[1;32m     14\u001b[0m minio_client \u001b[38;5;241m=\u001b[39m Minio(\n\u001b[1;32m     15\u001b[0m     minio_host,\n\u001b[1;32m     16\u001b[0m     access_key\u001b[38;5;241m=\u001b[39maccess_key,\n\u001b[1;32m     17\u001b[0m     secret_key\u001b[38;5;241m=\u001b[39msecret_key,\n\u001b[1;32m     18\u001b[0m     secure\u001b[38;5;241m=\u001b[39m\u001b[38;5;28;01mFalse\u001b[39;00m\n\u001b[1;32m     19\u001b[0m )\n",
      "\u001b[0;31mException\u001b[0m: MINIO_ACCESS_KEY or MINIO_SECRET_KEY is empty."
     ]
    }
   ],
   "source": [
    "from download_pdf_files.py import download_all_files\n",
    "bucket_name = os.getenv('BUCKET_NAME', 'shakudo-poc')\n",
    "object_prefix = os.getenv('OBJECT_KEY', 'rag-chat-financial10k/')\n",
    "download_path = './pdf_output'\n",
    "\n",
    "if not bucket_name or not object_prefix or not download_path:\n",
    "    print(\"Please set all the required environment variables.\")\n",
    "else:\n",
    "    download_all_files(bucket_name, object_prefix, download_path)"
   ]
  },
  {
   "cell_type": "markdown",
   "metadata": {},
   "source": [
    "### Step 2. Preprocess PDF files into text chunks."
   ]
  },
  {
   "cell_type": "markdown",
   "metadata": {},
   "source": [
    "You can create a custom preprocessing strategy for PDFs and split them into chunks optimized for retrieval. The exact approach will depend on the document type, content size, and the specific topics involved."
   ]
  },
  {
   "cell_type": "code",
   "execution_count": null,
   "metadata": {},
   "outputs": [],
   "source": []
  },
  {
   "cell_type": "markdown",
   "metadata": {},
   "source": [
    "### Step 3. Construct PDF chunks into Neo4J nodes."
   ]
  },
  {
   "cell_type": "markdown",
   "metadata": {},
   "source": []
  }
 ],
 "metadata": {
  "kernelspec": {
   "display_name": "Python 3",
   "language": "python",
   "name": "python3"
  },
  "language_info": {
   "codemirror_mode": {
    "name": "ipython",
    "version": 3
   },
   "file_extension": ".py",
   "mimetype": "text/x-python",
   "name": "python",
   "nbconvert_exporter": "python",
   "pygments_lexer": "ipython3",
   "version": "3.10.13"
  }
 },
 "nbformat": 4,
 "nbformat_minor": 2
}
